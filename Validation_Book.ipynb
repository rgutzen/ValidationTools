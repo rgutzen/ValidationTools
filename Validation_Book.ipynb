{
 "cells": [
  {
   "cell_type": "code",
   "execution_count": 1,
   "metadata": {
    "collapsed": true
   },
   "outputs": [],
   "source": [
    "%matplotlib inline\n",
    "import matplotlib.pyplot as plt\n",
    "import imp\n",
    "from elephant.spike_train_surrogates import *\n",
    "from elephant.statistics import mean_firing_rate, cv, isi\n",
    "from elephant.spike_train_correlation import corrcoef\n",
    "from quantities import Hz, ms\n",
    "from scipy.linalg import eigh"
   ]
  },
  {
   "cell_type": "heading",
   "metadata": {},
   "level": 5,
   "source": [
    "Load functions for validation and visualization"
   ]
  },
  {
   "cell_type": "code",
   "execution_count": 6,
   "metadata": {},
   "outputs": [],
   "source": [
    "%%capture\n",
    "dist = imp.load_source('*', './validation/dist.py')\n",
    "matstat = imp.load_source('*', './validation/matrix.py')\n",
    "testdata = imp.load_source('*', './validation/test_data.py')\n",
    "vizi = imp.load_source('*', '../INM6/Tasks/viziphant/plots/generic.py')\n",
    "\n",
    "data_path = '/home/robin/Projects/ValidationTools'\n",
    "nest_path = data_path + \"/sim_data/NEST_data\"\n",
    "spinnaker_path = data_path + \"/sim_data/SpiNNaker_data\"\n",
    "\n",
    "#number of spiketrains:\n",
    "N = 100"
   ]
  },
  {
   "cell_type": "heading",
   "metadata": {},
   "level": 3,
   "source": [
    "Load spiketrains from simulation"
   ]
  },
  {
   "cell_type": "code",
   "execution_count": null,
   "metadata": {},
   "outputs": [],
   "source": [
    "spiketrain_list_1 = testdata.load_data(nest_path, ['spikes_L4'], N)[0][0]\n",
    "\n",
    "spiketrain_list_2 = testdata.load_data(spinnaker_path, ['spikes_L4'], N)[0][0]"
   ]
  },
  {
   "cell_type": "heading",
   "metadata": {},
   "level": 3,
   "source": [
    "Or generate custom spiketrains"
   ]
  },
  {
   "cell_type": "code",
   "execution_count": 7,
   "metadata": {},
   "outputs": [],
   "source": [
    "spiketrain_list_1 = testdata.test_data(size=N, corr=[.5,.5,.5], \n",
    "                                       t_stop=500*ms, rate=100*Hz, \n",
    "                                       assembly_sizes=[8,8,8],\n",
    "                                       method=\"CPP\", bkgr_corr=0.0)\n",
    "\n",
    "spiketrain_list_2 = testdata.test_data(size=N, corr=[.5,.5,.5], \n",
    "                                       t_stop=500*ms, rate=100*Hz, \n",
    "                                       assembly_sizes=[8,8,8],\n",
    "                                       method=\"CPP\", bkgr_corr=0.0)"
   ]
  },
  {
   "cell_type": "heading",
   "metadata": {},
   "level": 3,
   "source": [
    "Compare the distributions of CV, firing rate, correlation coefficient, ..."
   ]
  },
  {
   "cell_type": "code",
   "execution_count": null,
   "metadata": {},
   "outputs": [],
   "source": [
    "def func(x):\n",
    "    return corrcoef(x)  # cv(isi(x)), mean_firing_rate(x)\n",
    "\n",
    "dist_sample_1 = [func(st) for st in spiketrain_list_1]\n",
    "\n",
    "dist_sample_2 = [func(st) for st in spiketrain_list_2]"
   ]
  },
  {
   "cell_type": "code",
   "execution_count": null,
   "metadata": {},
   "outputs": [],
   "source": [
    ""
   ]
  }
 ],
 "metadata": {
  "kernelspec": {
   "display_name": "Python 2",
   "language": "python",
   "name": "python2"
  },
  "language_info": {
   "codemirror_mode": {
    "name": "ipython",
    "version": 2.0
   },
   "file_extension": ".py",
   "mimetype": "text/x-python",
   "name": "python",
   "nbconvert_exporter": "python",
   "pygments_lexer": "ipython2",
   "version": "2.7.6"
  }
 },
 "nbformat": 4,
 "nbformat_minor": 0
}