{
 "cells": [
  {
   "cell_type": "code",
   "execution_count": 5,
   "metadata": {
    "collapsed": false
   },
   "outputs": [],
   "source": [
    "%matplotlib inline\n",
    "import sys\n",
    "# Make this reproducible (not using local package versions)!!\n",
    "sys.path.append('/home/robin/Projects/INM6/Tasks/')\n",
    "sys.path.append('/home/robin/Projects/NetworkUnit/')\n",
    "sys.path.insert(0,'/home/robin/Projects/sciunit')\n",
    "sys.path.insert(0,'/home/robin/Projects/INM6/elephant')\n",
    "import neo\n",
    "from viziphant.plots.rasterplot import rasterplot\n",
    "from networkunit import tests, scores, plots, models\n",
    "import sciunit\n",
    "import numpy as np\n",
    "from quantities import Hz, ms\n",
    "import matplotlib.pyplot as plt\n",
    "from matplotlib import rc\n",
    "import seaborn as sns\n",
    "from neo.core import SpikeTrain\n",
    "from copy import copy\n",
    "rc('text', usetex=True)\n",
    "sns.set(context='poster', palette='Set2', style='ticks')\n",
    "path = '/home/robin/Sciebo/data_ANDA/'"
   ]
  },
  {
   "cell_type": "code",
   "execution_count": 8,
   "metadata": {
    "collapsed": false
   },
   "outputs": [],
   "source": [
    "# Select the data\n",
    "data_idx = 5\n",
    "\n",
    "# Load the data\n",
    "block = np.load(path + 'data{}.npy'.format(data_idx)).item()\n",
    "\n",
    "sts_list = []\n",
    "for seg_id in range(len(block.segments)):\n",
    "\n",
    "    # Get all the idxs of the trials and select one\n",
    "    seg_idx = block.annotations['all_trial_ids'][seg_id]\n",
    "    \n",
    "    trial_type = block.segments[seg_id].annotations['belongs_to_trialtype']\n",
    "    \n",
    "    if trial_type == 'PGLF':\n",
    "    \n",
    "        sts = block.filter(targdict={'trial_id': seg_idx}, objects=neo.Segment)[0].spiketrains\n",
    "        sts_list = sts_list + [sts]"
   ]
  },
  {
   "cell_type": "code",
   "execution_count": 9,
   "metadata": {
    "collapsed": true
   },
   "outputs": [],
   "source": [
    "first_neuron_PGLF = [s_list[0] for s_list in sts_list]"
   ]
  },
  {
   "cell_type": "code",
   "execution_count": null,
   "metadata": {
    "collapsed": true
   },
   "outputs": [],
   "source": [
    "fig, ax = plt."
   ]
  }
 ],
 "metadata": {
  "kernelspec": {
   "display_name": "Python 2",
   "language": "python",
   "name": "python2"
  },
  "language_info": {
   "codemirror_mode": {
    "name": "ipython",
    "version": 2
   },
   "file_extension": ".py",
   "mimetype": "text/x-python",
   "name": "python",
   "nbconvert_exporter": "python",
   "pygments_lexer": "ipython2",
   "version": "2.7.12+"
  }
 },
 "nbformat": 4,
 "nbformat_minor": 0
}
