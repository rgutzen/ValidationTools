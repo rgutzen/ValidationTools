{
 "cells": [
  {
   "cell_type": "code",
   "execution_count": null,
   "metadata": {
    "collapsed": false
   },
   "outputs": [],
   "source": [
    "%matplotlib inline\n",
    "import matplotlib.pyplot as plt\n",
    "import imp\n",
    "import sys\n",
    "sys.path.append('/home/robin/Projects/INM6/elephant')\n",
    "sys.path.append('/home/robin/Projects/INM6/python-neo')\n",
    "from elephant.spike_train_surrogates import * \n",
    "from elephant.statistics import mean_firing_rate, cv, isi\n",
    "from quantities import Hz, ms\n",
    "from scipy.linalg import eigh\n",
    "from IPython.core.display import HTML\n",
    "import urllib2\n",
    "HTML(urllib2.urlopen('http://bit.ly/1Bf5Hft').read())"
   ]
  },
  {
   "cell_type": "markdown",
   "metadata": {},
   "source": [
    "#### Load functions for validation tools and visualization"
   ]
  },
  {
   "cell_type": "code",
   "execution_count": null,
   "metadata": {
    "collapsed": true
   },
   "outputs": [],
   "source": [
    "%%capture\n",
    "dist = imp.load_source('*', './validation/dist.py')\n",
    "matstat = imp.load_source('*', './validation/matrix.py')\n",
    "testdata = imp.load_source('*', './validation/test_data.py')\n",
    "vizi = imp.load_source('*', '../INM6/Tasks/viziphant/plots/generic.py')\n",
    "\n",
    "data_path = '/home/robin/Projects/ValidationTools'\n",
    "nest_path = data_path + \"/sim_data/NEST_data\"\n",
    "spinnaker_path = data_path + \"/sim_data/SpiNNaker_data\"\n",
    "\n",
    "# Number of spiketrains:\n",
    "N = 100"
   ]
  },
  {
   "cell_type": "markdown",
   "metadata": {},
   "source": [
    "#### Load spiketrains from simulation"
   ]
  },
  {
   "cell_type": "markdown",
   "metadata": {
    "collapsed": true
   },
   "source": [
    "spiketrain_list_1 = testdata.load_data(nest_path, ['spikes_L4'], N)[0][0]\n",
    "\n",
    "spiketrain_list_2 = testdata.load_data(spinnaker_path, ['spikes_L4'], N)[0][0]"
   ]
  },
  {
   "cell_type": "markdown",
   "metadata": {},
   "source": [
    "#### ...or generate custom spiketrains"
   ]
  },
  {
   "cell_type": "code",
   "execution_count": null,
   "metadata": {
    "collapsed": true
   },
   "outputs": [],
   "source": [
    "spiketrain_list_1 = testdata.test_data(size=N, \n",
    "                                       corr=[.3,.3,.3], \n",
    "                                       t_stop=500*ms, \n",
    "                                       rate=100*Hz, \n",
    "                                       assembly_sizes=[10,5,3],\n",
    "                                       method=\"CPP\", \n",
    "                                       bkgr_corr=0.01)\n",
    "\n",
    "spiketrain_list_2 = testdata.test_data(size=N, \n",
    "                                       corr=[.3,.3,.3,.3], \n",
    "                                       t_stop=500*ms, \n",
    "                                       rate=100*Hz, \n",
    "                                       assembly_sizes=[11,9,5,5],\n",
    "                                       method=\"CPP\", \n",
    "                                       bkgr_corr=0.01)"
   ]
  },
  {
   "cell_type": "markdown",
   "metadata": {},
   "source": [
    "#### Rasterplots"
   ]
  },
  {
   "cell_type": "code",
   "execution_count": null,
   "metadata": {
    "collapsed": false
   },
   "outputs": [],
   "source": [
    "fig, ax = plt.subplots(nrows=1, ncols=2, figsize=(15,8))\n",
    "fig.tight_layout()\n",
    "\n",
    "__ = vizi.rasterplot(spiketrain_list_1, ax=ax[0], palette=(['r']))\n",
    "__ = vizi.rasterplot(spiketrain_list_2, ax=ax[1], palette=(['g']))"
   ]
  },
  {
   "cell_type": "markdown",
   "metadata": {},
   "source": [
    "### Compare distributions \n",
    "##### of CVs, firing rates, correlation coefficients, ..."
   ]
  },
  {
   "cell_type": "code",
   "execution_count": null,
   "metadata": {
    "collapsed": false
   },
   "outputs": [],
   "source": [
    "def func(sts):\n",
    "    return matstat.corr_matrix(sts).flatten() # cv(isi(x)), mean_firing_rate(x)\n",
    "    \n",
    "dist_sample_1 = func(spiketrain_list_1)\n",
    "\n",
    "dist_sample_2 = func(spiketrain_list_2)"
   ]
  },
  {
   "cell_type": "markdown",
   "metadata": {},
   "source": [
    "#### Kullback-Leibler Divergence"
   ]
  },
  {
   "cell_type": "markdown",
   "metadata": {},
   "source": [
    "$$ D_\\mathrm{KL}(P||Q) =\\sum_{i} P(i) \\log_2 \\frac{P(i)}{Q(i)} = H(P,Q) - H(P)$$\n",
    "$ $\n",
    "\n",
    "The KL-Divergence is a measure of difference between two distribution based on entropy.\n",
    "\n",
    "When $P$ can be regarded as reference, $D_\\mathrm{KL}$ is the amount of information lost when substituting $Q$ for $P$. Consequently this measure is asymetric."
   ]
  },
  {
   "cell_type": "code",
   "execution_count": null,
   "metadata": {
    "collapsed": false
   },
   "outputs": [],
   "source": [
    "fig, ax = plt.subplots(nrows=1, ncols=1, figsize=(15,8))\n",
    "DKL, DKL_inv = dist.KL_test(dist_sample_1, dist_sample_2, ax=ax, bins=100, excl_zeros=True)"
   ]
  },
  {
   "cell_type": "markdown",
   "metadata": {},
   "source": [
    "#### Kolmogorov-Smirnov Distance"
   ]
  },
  {
   "cell_type": "markdown",
   "metadata": {},
   "source": [
    "$$ D_\\mathrm{KS} = \\sup | \\hat{P}(x) - \\hat{Q}(x) | $$\n",
    "$ $\n",
    "\n",
    "The KS-Distance measures the maximal vertical distance of the cumulative distributions $\\hat{P}$ and $\\hat{Q}$. This is a sensitive tool for detecting differences in mean, variance or distribution type. But it can't well detect deviations in the tails of the distributions. A possibily more powerful alternative would be the Cramér-von-Mises Test.\n",
    "\n",
    "$ $\n",
    "\n",
    "The null hypothesis that the underlying distributions are identical is rejected when the $D_\\mathrm{KS}$ statistic is larger than a critical value $D_\\alpha$ or equivalently when the correponding p-value is less than the signficance level $\\alpha$."
   ]
  },
  {
   "cell_type": "code",
   "execution_count": null,
   "metadata": {
    "collapsed": false
   },
   "outputs": [],
   "source": [
    "fig, ax = plt.subplots(nrows=1, ncols=1, figsize=(15,8))\n",
    "DKS, p = dist.KS_test(dist_sample_1, dist_sample_2, ax=ax)"
   ]
  },
  {
   "cell_type": "markdown",
   "metadata": {},
   "source": [
    "#### Mann-Whitney U Test"
   ]
  },
  {
   "cell_type": "markdown",
   "metadata": {},
   "source": [
    "$$ U_i = R_i - \\frac{n_i(n_i + 1)}{2}\\\\ U = min(U_1,U_2) $$\n",
    "\n",
    "$R_i$: rank sum\n",
    "\n",
    "$n_i$: sample size\n",
    "\n",
    "$ $\n",
    "\n",
    "The Mann-Whitney U is a rank statistic which test the null hypothesis that a random value of sample 1 is equally likely to be larger or a smaller value than a randomly chosen value of sample 2.\n",
    "\n",
    "$ $\n",
    "\n",
    "The $U_i$ statistic is in the range of $[0,n_1 n_2]$, and the $U=min(U_1,U_2)$ statistic is in the range of $[0,\\frac{n_1 n_2}{2}]$.\n",
    "\n",
    "$ $\n",
    "\n",
    "For sample sizes $>20$ $U$ follows approximately a normal distribution. With this assumption a p-value can be inferred. The null hypothesis is consequently rejected when the p-value is less than the significance level."
   ]
  },
  {
   "cell_type": "code",
   "execution_count": null,
   "metadata": {
    "collapsed": false
   },
   "outputs": [],
   "source": [
    "fig, ax = plt.subplots(nrows=1, ncols=1, figsize=(15,9))\n",
    "U, p = dist.MWU_test(dist_sample_1[:100], dist_sample_2[:100], ax=ax, excl_nan=True)"
   ]
  },
  {
   "cell_type": "markdown",
   "metadata": {},
   "source": [
    "### Compare the correlation matrices"
   ]
  },
  {
   "cell_type": "markdown",
   "metadata": {},
   "source": [
    "#### Heatmap"
   ]
  },
  {
   "cell_type": "code",
   "execution_count": null,
   "metadata": {
    "collapsed": false
   },
   "outputs": [],
   "source": [
    "corr_matrix_1 = matstat.corr_matrix(spiketrain_list_1)\n",
    "corr_matrix_2 = matstat.corr_matrix(spiketrain_list_2)\n",
    "\n",
    "fig, ax = plt.subplots(nrows=1, ncols=2, figsize=(15,6))\n",
    "fig.tight_layout()\n",
    "matstat.plot_matrix(corr_matrix_1, ax[0], remove_autocorr=True)\n",
    "matstat.plot_matrix(corr_matrix_2, ax[1], remove_autocorr=True)"
   ]
  },
  {
   "cell_type": "markdown",
   "metadata": {},
   "source": [
    "#### Eigenvalue distribution"
   ]
  },
  {
   "cell_type": "code",
   "execution_count": null,
   "metadata": {
    "collapsed": false
   },
   "outputs": [],
   "source": [
    "EWs_1, EVs_1 = eigh(corr_matrix_1)\n",
    "EWs_2, EVs_2 = eigh(corr_matrix_2)\n",
    "\n",
    "# Generate surrogates as reference\n",
    "def generate_ref(spiketrain_list):\n",
    "    surrogate_spiketrain_list = testdata.generate_surrogates(spiketrain_list, \n",
    "                                                             dither_spikes, #_train, \n",
    "                                                             dither=10*ms) #shift\n",
    "    surrogate_corr_matrix = matstat.corr_matrix(surrogate_spiketrain_list)\n",
    "    return eigh(surrogate_corr_matrix)[0]\n",
    "\n",
    "fig, ax = plt.subplots(nrows=1, ncols=2, figsize=(15,8))\n",
    "fig.tight_layout()\n",
    "__ = matstat.eigenvalue_distribution(EWs_1, ax[0], \n",
    "                                     reference_EWs=generate_ref(spiketrain_list_1),\n",
    "                                     binnum=int(max(EWs_1))*5, color='r')\n",
    "__ = matstat.redundancy(EWs_1)\n",
    "\n",
    "__ = matstat.eigenvalue_distribution(EWs_2, ax[1], \n",
    "                                     reference_EWs=generate_ref(spiketrain_list_2),\n",
    "                                     binnum=int(max(EWs_2))*5, color='g')\n",
    "__ = matstat.redundancy(EWs_2)"
   ]
  },
  {
   "cell_type": "markdown",
   "metadata": {},
   "source": [
    "#### Eigenvalue spectra"
   ]
  },
  {
   "cell_type": "code",
   "execution_count": null,
   "metadata": {
    "collapsed": false
   },
   "outputs": [],
   "source": [
    "fig, ax = plt.subplots(nrows=1, ncols=2, figsize=(15,6))\n",
    "fig.tight_layout()\n",
    "\n",
    "pc_nbr_1 = matstat.eigenvalue_spectra(EWs_1, method='SCREE', alpha=.20, ax=ax[0], color='r')\n",
    "pc_nbr_2 = matstat.eigenvalue_spectra(EWs_2, method='SCREE', ax=ax[1], color='g')"
   ]
  },
  {
   "cell_type": "markdown",
   "metadata": {},
   "source": [
    "#### Show eigenvectors"
   ]
  },
  {
   "cell_type": "code",
   "execution_count": null,
   "metadata": {
    "collapsed": false
   },
   "outputs": [],
   "source": [
    "if N < 17:\n",
    "    colormap = [37,37,30,34,32,31,33,36,35] + [47,40,44,42,41,43,46,45]\n",
    "    matstat.print_eigenvectors(EVs_1, EWs_1, pc_nbr_1, colormap=colormap)\n",
    "    matstat.print_eigenvectors(EVs_2, EWs_2, pc_nbr_2, colormap=colormap)"
   ]
  },
  {
   "cell_type": "markdown",
   "metadata": {},
   "source": [
    "#### Angles between eigenspaces"
   ]
  },
  {
   "cell_type": "code",
   "execution_count": null,
   "metadata": {
    "collapsed": false
   },
   "outputs": [],
   "source": [
    "nbr_of_pcs = min(pc_nbr_1, pc_nbr_2)\n",
    "_ = matstat.EV_angles(EVs_1[:, -nbr_of_pcs:], EVs_2[:, -nbr_of_pcs:])"
   ]
  },
  {
   "cell_type": "markdown",
   "metadata": {},
   "source": [
    "#### Detect Assemblies"
   ]
  },
  {
   "cell_type": "code",
   "execution_count": null,
   "metadata": {
    "collapsed": false
   },
   "outputs": [],
   "source": [
    "print \"\\033[36mSample 1\\033[0m\\n\"\n",
    "corr_order_1 = matstat.detect_assemblies(EVs_1, EWs_1, detect_by='eigenvalues', sort=True, jupyter=True)\n",
    "print \"\\033[36mSample 2\\033[0m\\n\"\n",
    "corr_order_2 = matstat.detect_assemblies(EVs_2, EWs_2, detect_by=.2, sort=True, jupyter=True)"
   ]
  },
  {
   "cell_type": "markdown",
   "metadata": {},
   "source": [
    "#### Show Assemblies in Correlation Matrix"
   ]
  },
  {
   "cell_type": "code",
   "execution_count": null,
   "metadata": {
    "collapsed": false
   },
   "outputs": [],
   "source": [
    "fig, ax = plt.subplots(nrows=1, ncols=2, figsize=(15,6))\n",
    "fig.tight_layout()\n",
    "\n",
    "matstat.plot_matrix(corr_matrix_1[corr_order_1, :][:, corr_order_1], ax[0], labels=corr_order_1, remove_autocorr=False)\n",
    "matstat.plot_matrix(corr_matrix_2[corr_order_2, :][:, corr_order_2], ax[1], labels=corr_order_2, remove_autocorr=False)"
   ]
  }
 ],
 "metadata": {
  "kernelspec": {
   "display_name": "Python 2",
   "language": "python",
   "name": "python2"
  },
  "language_info": {
   "codemirror_mode": {
    "name": "ipython",
    "version": 2
   },
   "file_extension": ".py",
   "mimetype": "text/x-python",
   "name": "python",
   "nbconvert_exporter": "python",
   "pygments_lexer": "ipython2",
   "version": "2.7.12+"
  }
 },
 "nbformat": 4,
 "nbformat_minor": 0
}
